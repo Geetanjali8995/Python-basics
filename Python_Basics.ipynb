{
  "nbformat": 4,
  "nbformat_minor": 0,
  "metadata": {
    "colab": {
      "provenance": []
    },
    "kernelspec": {
      "name": "python3",
      "display_name": "Python 3"
    },
    "language_info": {
      "name": "python"
    }
  },
  "cells": [
    {
      "cell_type": "markdown",
      "source": [
        "##Python Basics Assignment\n",
        "Theoretical Questions\n",
        "---\n",
        "Q.1 What is Python, and why is it popular?\n",
        "\n",
        "Ans: Python is a programming language which easy to learn and easy to understand due to its beginner-friendly approach.\n",
        "*   why Python is popular:\n",
        "1.   It is general purpose programming language\n",
        "2.   Python codes can be run on different platforms.\n",
        "3.   Python has many built-in libraries which can save time and efforts.\n",
        "4.   beginner friendly and easily understandable syntax.\n",
        "5.   Can be used for different applications like web development,data science,machine learning\n",
        "\n",
        "Q.2  What is an interpreter in Python?\n",
        "\n",
        "Ans: Python interpreter reads the pyhton code and translate it into byte code,and executes byte code line by line.\n",
        "\n",
        "Q.3 What are pre-defined keywords in Python?\n",
        "\n",
        "Ans:Pre-defined keywords are reserved words in python which has some specific meaning.\n",
        "\n",
        "Q.4: Can keywords be used as variable names?\n",
        "\n",
        "Ans: No. Keywords are pre-defined in python and we cannot use it as variable names.\n",
        "\n",
        "Q.5: What is mutability in Python?\n",
        "\n",
        "Ans:Mutability is ability to change the value of an object after creation.\n",
        "With the help of mutability we can modify the object after creation.\n",
        "\n",
        "Q.6: Why are lists mutable, but tuples are immutable?\n",
        "\n",
        "Ans:Lists are said to be mutable in nature because we can modify the list afetr its creation.Tuples once created it cannot be modified later, hence they are immutable in nature.\n",
        "\n",
        "Q.7: What is the difference between “==” and “is” operators in Python?\n",
        "\n",
        "Ans:\"==\" : \"=\" is an equality operator which is used to check whether the objects are having same value or not.\n",
        "\"is\" : \"is\" is a operator which compares whether two varibles are pointing to the same object in the memory or not.\n",
        "\n",
        "Q.8: What are logical operators in Python?\n",
        "\n",
        "Ans:Logical operators in Python are symbols or words that evaluate multiple conditions and determine if an expression is true.\n",
        "The three logical operators in Python:\n",
        "\n",
        "\n",
        "1.   and\n",
        "2.   or\n",
        "3.   not\n",
        "\n",
        "1. and: If both the specified conditions are true,then result of this operator returns true.\n",
        "2. or: If one of the specified condition is true,then result of this operator returns true.\n",
        "3. not: It returns true if the condition is false.\n",
        "\n",
        "Q.9:What is type casting in Python?\n",
        "\n",
        "Ans:type casting refers to the changing data type from one to another.It is also known as type conversion.There are two types of type casting in python.\n",
        "1.Implicit type casting\n",
        "2.Explicit type caasting\n",
        "\n",
        "Q.10: What is the difference between implicit and explicit type casting?\n",
        "\n",
        "Ans:Explicit type conversion in programming is done manually by the programmer, while implicit conversion is handled automatically by the compiler.\n",
        "Implicit type casting happens when the compiler or interpreter automatically changes one data type into another and it is often invisible to the user.\n",
        "Explicit type casting requires the programmer to write code that instructs the compiler or interpreter to make a specific conversion and it is visible in the source code.\n",
        "\n",
        "Q.11: What is the purpose of conditional statements in Python?\n",
        "\n",
        "Ans:The purpose of conditional statements in python is to control the flow of a program by executing different blocks of code based on conditions.\n",
        "\n",
        "Q.12:  How does the elif statement work?\n",
        "\n",
        "Ans:The “elif” keyword in Python, stands for “else if”. It can be used in conditional statements to check for multiple conditions. For example, if the first condition is false, it moves on to the next “elif” statement to check if that condition is true. If none of the conditions are true, the code will execute the else statement.\n",
        "\n",
        "**Syntax for elif:**\n",
        "if condition1:\n",
        "    # execute code if condition1 is true\n",
        "elif condition2:\n",
        "    # execute code if condition2 is true\n",
        "else:\n",
        "    # execute code if all conditions are false\n",
        "\n",
        "Q.13:  What is the difference between for and while loops?\n",
        "\n",
        "Ans:for loop allows initialization, condition checking and iteration statements on the top of the loop, whereas while loop only allows initialization and condition checking at the top of the loop.\n",
        "\n",
        "Q.14: Describe a scenario where a while loop is more suitable than a for loop.\n",
        "\n",
        "Ans: for loop is generally used when the number of iterations is known before and a while loop is suitable for situations where the number of iterations is not predetermined and depends on some dynamic condition.\n",
        "\n",
        "\n",
        "\n",
        "\n",
        "\n",
        "\n",
        "\n",
        "\n",
        "\n",
        "\n",
        "\n",
        "\n",
        "\n",
        "\n"
      ],
      "metadata": {
        "id": "ehWfPXoFCCjJ"
      }
    },
    {
      "cell_type": "markdown",
      "source": [
        "##Practical Questions"
      ],
      "metadata": {
        "id": "7i6JzYcQYiG9"
      }
    },
    {
      "cell_type": "code",
      "source": [
        "#Q.1. Write a Python program to print \"Hello, World!\n",
        "print(\"Hello, World!\")\n"
      ],
      "metadata": {
        "colab": {
          "base_uri": "https://localhost:8080/"
        },
        "id": "Iws-mr6eYpzl",
        "outputId": "ffa04db7-f541-485a-89fb-98cbad97b8ab"
      },
      "execution_count": null,
      "outputs": [
        {
          "output_type": "stream",
          "name": "stdout",
          "text": [
            "Hello, World!\n"
          ]
        }
      ]
    },
    {
      "cell_type": "code",
      "source": [
        "#Q.2 Write a Python program that displays your name and age\n",
        "name='Geetanjali'\n",
        "age=29\n",
        "print(\"My name is\",name)\n",
        "print(\"I am \", age, \"years old.\")\n"
      ],
      "metadata": {
        "colab": {
          "base_uri": "https://localhost:8080/"
        },
        "id": "UM_KUiBOZAuL",
        "outputId": "31d2aa91-e102-4bb3-9a2a-069a5cddcd1f"
      },
      "execution_count": null,
      "outputs": [
        {
          "output_type": "stream",
          "name": "stdout",
          "text": [
            "My name is Geetanjali\n",
            "I am  29 years old.\n"
          ]
        }
      ]
    },
    {
      "cell_type": "code",
      "source": [
        "#Q.3  Write code to print all the pre-defined keywords in Python using the keyword library\n",
        "help('keywords')"
      ],
      "metadata": {
        "colab": {
          "base_uri": "https://localhost:8080/"
        },
        "id": "8YjvICEdbqJk",
        "outputId": "98f2a109-9264-44bf-e59e-85619fcef97d"
      },
      "execution_count": null,
      "outputs": [
        {
          "output_type": "stream",
          "name": "stdout",
          "text": [
            "\n",
            "Here is a list of the Python keywords.  Enter any keyword to get more help.\n",
            "\n",
            "False               class               from                or\n",
            "None                continue            global              pass\n",
            "True                def                 if                  raise\n",
            "and                 del                 import              return\n",
            "as                  elif                in                  try\n",
            "assert              else                is                  while\n",
            "async               except              lambda              with\n",
            "await               finally             nonlocal            yield\n",
            "break               for                 not                 \n",
            "\n"
          ]
        }
      ]
    },
    {
      "cell_type": "code",
      "source": [
        "#Q.4: Write a program that checks if a given word is a Python keyword\n",
        "import keyword\n",
        "s=input(\"Enter any word \")\n",
        "if keyword.iskeyword(s):\n",
        "  print(\"Your entered word is keyword\")\n",
        "else:\n",
        "  print(\"Your entered word is not keyword\")"
      ],
      "metadata": {
        "colab": {
          "base_uri": "https://localhost:8080/"
        },
        "id": "2xxGegpBdlph",
        "outputId": "4fe325c3-d8b0-4257-b2dc-e4bdcdd7a7f7"
      },
      "execution_count": null,
      "outputs": [
        {
          "output_type": "stream",
          "name": "stdout",
          "text": [
            "Enter any wordone\n",
            "Your entered word is not keyword\n"
          ]
        }
      ]
    },
    {
      "cell_type": "code",
      "source": [
        "#Q.5:Create a list and tuple in Python, and demonstrate how attempting to change an element works differently\n",
        "#for each\n",
        "my_list=[1,2,3,4,5]\n",
        "my_list\n",
        "my_list[2]=6\n",
        "my_list\n",
        "my_tuple=('apple','orange')\n",
        "my_tuple\n",
        "my_tuple[0]\n",
        "my_tuple[0]='kiwi'"
      ],
      "metadata": {
        "colab": {
          "base_uri": "https://localhost:8080/",
          "height": 182
        },
        "id": "fH6Pi-uyotON",
        "outputId": "05573ff5-880f-4c82-dafb-60ba20a58e3e"
      },
      "execution_count": null,
      "outputs": [
        {
          "output_type": "error",
          "ename": "TypeError",
          "evalue": "'tuple' object does not support item assignment",
          "traceback": [
            "\u001b[0;31m---------------------------------------------------------------------------\u001b[0m",
            "\u001b[0;31mTypeError\u001b[0m                                 Traceback (most recent call last)",
            "\u001b[0;32m<ipython-input-20-bfe67e0fc8d6>\u001b[0m in \u001b[0;36m<cell line: 0>\u001b[0;34m()\u001b[0m\n\u001b[1;32m      8\u001b[0m \u001b[0mmy_tuple\u001b[0m\u001b[0;34m\u001b[0m\u001b[0;34m\u001b[0m\u001b[0m\n\u001b[1;32m      9\u001b[0m \u001b[0mmy_tuple\u001b[0m\u001b[0;34m[\u001b[0m\u001b[0;36m0\u001b[0m\u001b[0;34m]\u001b[0m\u001b[0;34m\u001b[0m\u001b[0;34m\u001b[0m\u001b[0m\n\u001b[0;32m---> 10\u001b[0;31m \u001b[0mmy_tuple\u001b[0m\u001b[0;34m[\u001b[0m\u001b[0;36m0\u001b[0m\u001b[0;34m]\u001b[0m\u001b[0;34m=\u001b[0m\u001b[0;34m'kiwi'\u001b[0m\u001b[0;34m\u001b[0m\u001b[0;34m\u001b[0m\u001b[0m\n\u001b[0m",
            "\u001b[0;31mTypeError\u001b[0m: 'tuple' object does not support item assignment"
          ]
        }
      ]
    },
    {
      "cell_type": "code",
      "source": [
        "#Q.6: Write a function to demonstrate the behavior of mutable and immutable arguments\n",
        "def demonstrate_mutable_immutable():\n",
        "    # Immutable argument: Integer\n",
        "    def modify_immutable(arg):\n",
        "        print(f\"Original value (immutable): {arg}\")\n",
        "        arg += 10  # Changing the value, but won't affect the original\n",
        "        print(f\"Modified value (immutable): {arg}\")\n",
        "\n",
        "    # Mutable argument: List\n",
        "    def modify_mutable(arg):\n",
        "        print(f\"Original value (mutable): {arg}\")\n",
        "        arg.append(100)  # Modifying the list, changes will persist outside the function\n",
        "        print(f\"Modified value (mutable): {arg}\")\n",
        "\n",
        "    # Demonstrating immutable behavior\n",
        "    num = 5\n",
        "    modify_immutable(num)\n",
        "    print(f\"Value after modify_immutable: {num}\\n\")  # Value doesn't change outside function\n",
        "\n",
        "    # Demonstrating mutable behavior\n",
        "    my_list = [1, 2, 3]\n",
        "    modify_mutable(my_list)\n",
        "    print(f\"Value after modify_mutable: {my_list}\\n\")  # List is modified outside the function\n",
        "\n",
        "# Calling the demonstration function\n",
        "demonstrate_mutable_immutable()\n"
      ],
      "metadata": {
        "id": "OW6oDoRosTU7",
        "colab": {
          "base_uri": "https://localhost:8080/"
        },
        "outputId": "c2909b85-15ba-499f-b912-481879c7ad91"
      },
      "execution_count": null,
      "outputs": [
        {
          "output_type": "stream",
          "name": "stdout",
          "text": [
            "Original value (immutable): 5\n",
            "Modified value (immutable): 15\n",
            "Value after modify_immutable: 5\n",
            "\n",
            "Original value (mutable): [1, 2, 3]\n",
            "Modified value (mutable): [1, 2, 3, 100]\n",
            "Value after modify_mutable: [1, 2, 3, 100]\n",
            "\n",
            "Original value (immutable): 5\n",
            "Modified value (immutable): 15\n",
            "Value after modify_immutable: 5\n",
            "\n",
            "Original value (mutable): [1, 2, 3]\n",
            "Modified value (mutable): [1, 2, 3, 100]\n",
            "Value after modify_mutable: [1, 2, 3, 100]\n",
            "\n"
          ]
        }
      ]
    },
    {
      "cell_type": "code",
      "source": [
        "#Q.7: Write a program to demonstrate the use of logical operators.\n",
        "x = 10\n",
        "logical_and = x > 5 and x < 15\n",
        "logical_or = x > 5 or x < 2\n",
        "logical_not = not(x > 5 and x < 15)\n",
        "print(logical_and)\n",
        "print(logical_or)\n",
        "print(logical_not)"
      ],
      "metadata": {
        "colab": {
          "base_uri": "https://localhost:8080/"
        },
        "id": "P6ErUK-k_EnY",
        "outputId": "4dc6df41-1854-4719-ce95-e471321dcfaa"
      },
      "execution_count": null,
      "outputs": [
        {
          "output_type": "stream",
          "name": "stdout",
          "text": [
            "True\n",
            "True\n",
            "False\n"
          ]
        }
      ]
    },
    {
      "cell_type": "code",
      "source": [
        "#Q.8: Write a Python program to convert user input from string to integer, float, and boolean types\n",
        "input_str=input(\" Enter input\")\n",
        "input_int = int(input_str)\n",
        "input_float = float(input_str)\n",
        "input_bool = bool(input_str)\n",
        "print(input_int)\n",
        "print(input_float)\n",
        "print(input_bool)"
      ],
      "metadata": {
        "colab": {
          "base_uri": "https://localhost:8080/"
        },
        "id": "KJZ2HrR8Frxi",
        "outputId": "ef7e98aa-bbd8-4ba2-ad69-6b51732796b1"
      },
      "execution_count": null,
      "outputs": [
        {
          "output_type": "stream",
          "name": "stdout",
          "text": [
            " Enter input23\n",
            "23\n",
            "23.0\n",
            "True\n"
          ]
        }
      ]
    },
    {
      "cell_type": "code",
      "source": [
        "#Q.9: Write code to demonstrate type casting with list elements.\n",
        "list_item=[2,3.6,'123']\n",
        "print(\"List before type casting\",list_item)\n",
        "list_item[0] = float(list_item[0])\n",
        "list_item[1] = int(list_item[1])\n",
        "list_item[2] = int(list_item[2])\n",
        "print(\"List after type casting\",list_item)"
      ],
      "metadata": {
        "colab": {
          "base_uri": "https://localhost:8080/"
        },
        "id": "8KxtDHP5IM31",
        "outputId": "fc8f9b38-3306-4958-d8bb-e218f5192d72"
      },
      "execution_count": null,
      "outputs": [
        {
          "output_type": "stream",
          "name": "stdout",
          "text": [
            "List before type casting [2, 3.6, '123']\n",
            "List after type casting [2.0, 3, 123]\n"
          ]
        }
      ]
    },
    {
      "cell_type": "code",
      "source": [
        "#Q.10: Write a program that checks if a number is positive, negative, or zero.\n",
        "num=input(\"Enter any number\")\n",
        "num=int(num)\n",
        "if num > 0:\n",
        "  print(\"Number is positive\")\n",
        "elif num < 0:\n",
        "  print(\"Number is negative\")\n",
        "else:\n",
        "  print(\"Number is 0\")\n"
      ],
      "metadata": {
        "colab": {
          "base_uri": "https://localhost:8080/"
        },
        "id": "PO3Vw-M0NiGX",
        "outputId": "90b8a96b-6e16-4dc1-ce4f-8aeaa7662a98"
      },
      "execution_count": null,
      "outputs": [
        {
          "output_type": "stream",
          "name": "stdout",
          "text": [
            "Enter any number-2\n",
            "Number is negative\n"
          ]
        }
      ]
    },
    {
      "cell_type": "code",
      "source": [
        "#Q.11: Write a for loop to print numbers from 1 to 10\n",
        "for i in range(1,11):\n",
        "  print(i)"
      ],
      "metadata": {
        "colab": {
          "base_uri": "https://localhost:8080/"
        },
        "id": "9XN4e0P9QeWw",
        "outputId": "9874928d-c04b-4739-9ec1-1145c804847f"
      },
      "execution_count": null,
      "outputs": [
        {
          "output_type": "stream",
          "name": "stdout",
          "text": [
            "1\n",
            "2\n",
            "3\n",
            "4\n",
            "5\n",
            "6\n",
            "7\n",
            "8\n",
            "9\n",
            "10\n"
          ]
        }
      ]
    },
    {
      "cell_type": "code",
      "source": [
        "#Q.12 Write a Python program to find the sum of all even numbers between 1 and 50\n",
        "sum = 0\n",
        "for i in range(1,51):\n",
        " if i % 2 == 0:\n",
        "   sum = sum + i\n",
        "print(sum)"
      ],
      "metadata": {
        "colab": {
          "base_uri": "https://localhost:8080/"
        },
        "id": "ldBgcy81Ryjh",
        "outputId": "5135c5ac-7138-4f4f-e360-df7868894706"
      },
      "execution_count": null,
      "outputs": [
        {
          "output_type": "stream",
          "name": "stdout",
          "text": [
            "650\n"
          ]
        }
      ]
    },
    {
      "cell_type": "code",
      "source": [
        "#Q.13: Write a program to reverse a string using a while loop\n",
        "str = \"pwskills\"\n",
        "print (\"The original string  is : \",str)\n",
        "reverse_String = \"\"\n",
        "count = len(str)\n",
        "while count > 0:\n",
        "    reverse_String += str[ count - 1 ]\n",
        "    count = count - 1\n",
        "print (\"The reversed string using a while loop is : \",reverse_String)"
      ],
      "metadata": {
        "colab": {
          "base_uri": "https://localhost:8080/"
        },
        "id": "zaACns1NTPr7",
        "outputId": "3c653763-3912-4bc8-e35b-527e183dfc5b"
      },
      "execution_count": null,
      "outputs": [
        {
          "output_type": "stream",
          "name": "stdout",
          "text": [
            "The original string  is :  pwskills\n",
            "The reversed string using a while loop is :  sllikswp\n"
          ]
        }
      ]
    },
    {
      "cell_type": "code",
      "source": [
        "#Q.14: Write a Python program to calculate the factorial of a number provided by the user using a while loop.\n",
        "n=input(\"Enter number \")\n",
        "n=int(n)\n",
        "fact = 1\n",
        "while n >= 1:\n",
        "        fact = fact * n\n",
        "        n = n - 1\n",
        "print(\"Factorial of a given number is \",fact)"
      ],
      "metadata": {
        "colab": {
          "base_uri": "https://localhost:8080/"
        },
        "id": "AkarJ5SHVYWq",
        "outputId": "101f4dc6-7380-4ff8-e373-079c5a84a839"
      },
      "execution_count": null,
      "outputs": [
        {
          "output_type": "stream",
          "name": "stdout",
          "text": [
            "Enter number 6\n",
            "Factorial of a given number is  720\n"
          ]
        }
      ]
    }
  ]
}